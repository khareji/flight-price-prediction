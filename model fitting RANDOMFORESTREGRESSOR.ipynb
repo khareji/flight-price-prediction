{
 "cells": [
  {
   "cell_type": "code",
   "execution_count": 38,
   "metadata": {},
   "outputs": [],
   "source": [
    "import pandas as pd\n",
    "import numpy as np\n",
    "import matplotlib.pyplot as plt\n",
    "import seaborn as sns"
   ]
  },
  {
   "cell_type": "code",
   "execution_count": 2,
   "metadata": {},
   "outputs": [],
   "source": [
    "train=pd.read_csv(\"finadatatrain.csv\")\n",
    "test=pd.read_csv(\"finadatatest.csv\")"
   ]
  },
  {
   "cell_type": "code",
   "execution_count": 12,
   "metadata": {},
   "outputs": [],
   "source": [
    "train.head(2)\n",
    "train.isnull().sum()\n",
    "train.fillna(0,inplace=True)"
   ]
  },
  {
   "cell_type": "code",
   "execution_count": 13,
   "metadata": {},
   "outputs": [
    {
     "data": {
      "text/plain": [
       "Unnamed: 0                                   0\n",
       "Total_Stops                                  0\n",
       "Price                                        0\n",
       "Airline_Air India                            0\n",
       "Airline_GoAir                                0\n",
       "Airline_IndiGo                               0\n",
       "Airline_Jet Airways                          0\n",
       "Airline_Jet Airways Business                 0\n",
       "Airline_Multiple carriers                    0\n",
       "Airline_Multiple carriers Premium economy    0\n",
       "Airline_SpiceJet                             0\n",
       "Airline_Trujet                               0\n",
       "Airline_Vistara                              0\n",
       "Airline_Vistara Premium economy              0\n",
       "Source_Chennai                               0\n",
       "Source_Delhi                                 0\n",
       "Source_Kolkata                               0\n",
       "Source_Mumbai                                0\n",
       "Destination_Cochin                           0\n",
       "Destination_Delhi                            0\n",
       "Destination_Hyderabad                        0\n",
       "Destination_Kolkata                          0\n",
       "Destination_New Delhi                        0\n",
       "Journeyday                                   0\n",
       "Journeymonth                                 0\n",
       "Dephour                                      0\n",
       "Depmin                                       0\n",
       "Arrivalhour                                  0\n",
       "Arrivalmin                                   0\n",
       "Durationhours                                0\n",
       "Durationmins                                 0\n",
       "dtype: int64"
      ]
     },
     "execution_count": 13,
     "metadata": {},
     "output_type": "execute_result"
    }
   ],
   "source": [
    "train.isnull().sum()"
   ]
  },
  {
   "cell_type": "code",
   "execution_count": 14,
   "metadata": {},
   "outputs": [
    {
     "data": {
      "text/html": [
       "<div>\n",
       "<style scoped>\n",
       "    .dataframe tbody tr th:only-of-type {\n",
       "        vertical-align: middle;\n",
       "    }\n",
       "\n",
       "    .dataframe tbody tr th {\n",
       "        vertical-align: top;\n",
       "    }\n",
       "\n",
       "    .dataframe thead th {\n",
       "        text-align: right;\n",
       "    }\n",
       "</style>\n",
       "<table border=\"1\" class=\"dataframe\">\n",
       "  <thead>\n",
       "    <tr style=\"text-align: right;\">\n",
       "      <th></th>\n",
       "      <th>Unnamed: 0</th>\n",
       "      <th>Total_Stops</th>\n",
       "      <th>Airline_Air India</th>\n",
       "      <th>Airline_GoAir</th>\n",
       "      <th>Airline_IndiGo</th>\n",
       "      <th>Airline_Jet Airways</th>\n",
       "      <th>Airline_Jet Airways Business</th>\n",
       "      <th>Airline_Multiple carriers</th>\n",
       "      <th>Airline_Multiple carriers Premium economy</th>\n",
       "      <th>Airline_SpiceJet</th>\n",
       "      <th>...</th>\n",
       "      <th>Destination_Kolkata</th>\n",
       "      <th>Destination_New Delhi</th>\n",
       "      <th>Journeyday</th>\n",
       "      <th>Journeymonth</th>\n",
       "      <th>Dephour</th>\n",
       "      <th>Depmin</th>\n",
       "      <th>Arrivalhour</th>\n",
       "      <th>Arrivalmin</th>\n",
       "      <th>Durationhours</th>\n",
       "      <th>Durationmins</th>\n",
       "    </tr>\n",
       "  </thead>\n",
       "  <tbody>\n",
       "    <tr>\n",
       "      <th>0</th>\n",
       "      <td>0</td>\n",
       "      <td>1</td>\n",
       "      <td>0</td>\n",
       "      <td>0</td>\n",
       "      <td>0</td>\n",
       "      <td>1</td>\n",
       "      <td>0</td>\n",
       "      <td>0</td>\n",
       "      <td>0</td>\n",
       "      <td>0</td>\n",
       "      <td>...</td>\n",
       "      <td>0</td>\n",
       "      <td>0</td>\n",
       "      <td>6</td>\n",
       "      <td>6</td>\n",
       "      <td>17</td>\n",
       "      <td>30</td>\n",
       "      <td>4</td>\n",
       "      <td>25</td>\n",
       "      <td>10</td>\n",
       "      <td>55</td>\n",
       "    </tr>\n",
       "    <tr>\n",
       "      <th>1</th>\n",
       "      <td>1</td>\n",
       "      <td>1</td>\n",
       "      <td>0</td>\n",
       "      <td>0</td>\n",
       "      <td>1</td>\n",
       "      <td>0</td>\n",
       "      <td>0</td>\n",
       "      <td>0</td>\n",
       "      <td>0</td>\n",
       "      <td>0</td>\n",
       "      <td>...</td>\n",
       "      <td>0</td>\n",
       "      <td>0</td>\n",
       "      <td>12</td>\n",
       "      <td>5</td>\n",
       "      <td>6</td>\n",
       "      <td>20</td>\n",
       "      <td>10</td>\n",
       "      <td>20</td>\n",
       "      <td>4</td>\n",
       "      <td>0</td>\n",
       "    </tr>\n",
       "  </tbody>\n",
       "</table>\n",
       "<p>2 rows × 29 columns</p>\n",
       "</div>"
      ],
      "text/plain": [
       "   Unnamed: 0  Total_Stops  Airline_Air India  Airline_GoAir  Airline_IndiGo  \\\n",
       "0           0            1                  0              0               0   \n",
       "1           1            1                  0              0               1   \n",
       "\n",
       "   Airline_Jet Airways  Airline_Jet Airways Business  \\\n",
       "0                    1                             0   \n",
       "1                    0                             0   \n",
       "\n",
       "   Airline_Multiple carriers  Airline_Multiple carriers Premium economy  \\\n",
       "0                          0                                          0   \n",
       "1                          0                                          0   \n",
       "\n",
       "   Airline_SpiceJet  ...  Destination_Kolkata  Destination_New Delhi  \\\n",
       "0                 0  ...                    0                      0   \n",
       "1                 0  ...                    0                      0   \n",
       "\n",
       "   Journeyday  Journeymonth  Dephour  Depmin  Arrivalhour  Arrivalmin  \\\n",
       "0           6             6       17      30            4          25   \n",
       "1          12             5        6      20           10          20   \n",
       "\n",
       "   Durationhours  Durationmins  \n",
       "0             10            55  \n",
       "1              4             0  \n",
       "\n",
       "[2 rows x 29 columns]"
      ]
     },
     "execution_count": 14,
     "metadata": {},
     "output_type": "execute_result"
    }
   ],
   "source": [
    "test.head(2)"
   ]
  },
  {
   "cell_type": "code",
   "execution_count": 15,
   "metadata": {},
   "outputs": [
    {
     "data": {
      "text/plain": [
       "Index(['Unnamed: 0', 'Total_Stops', 'Price', 'Airline_Air India',\n",
       "       'Airline_GoAir', 'Airline_IndiGo', 'Airline_Jet Airways',\n",
       "       'Airline_Jet Airways Business', 'Airline_Multiple carriers',\n",
       "       'Airline_Multiple carriers Premium economy', 'Airline_SpiceJet',\n",
       "       'Airline_Trujet', 'Airline_Vistara', 'Airline_Vistara Premium economy',\n",
       "       'Source_Chennai', 'Source_Delhi', 'Source_Kolkata', 'Source_Mumbai',\n",
       "       'Destination_Cochin', 'Destination_Delhi', 'Destination_Hyderabad',\n",
       "       'Destination_Kolkata', 'Destination_New Delhi', 'Journeyday',\n",
       "       'Journeymonth', 'Dephour', 'Depmin', 'Arrivalhour', 'Arrivalmin',\n",
       "       'Durationhours', 'Durationmins'],\n",
       "      dtype='object')"
      ]
     },
     "execution_count": 15,
     "metadata": {},
     "output_type": "execute_result"
    }
   ],
   "source": [
    "train.columns"
   ]
  },
  {
   "cell_type": "code",
   "execution_count": 16,
   "metadata": {},
   "outputs": [
    {
     "name": "stdout",
     "output_type": "stream",
     "text": [
      "(10683, 29)\n"
     ]
    },
    {
     "data": {
      "text/html": [
       "<div>\n",
       "<style scoped>\n",
       "    .dataframe tbody tr th:only-of-type {\n",
       "        vertical-align: middle;\n",
       "    }\n",
       "\n",
       "    .dataframe tbody tr th {\n",
       "        vertical-align: top;\n",
       "    }\n",
       "\n",
       "    .dataframe thead th {\n",
       "        text-align: right;\n",
       "    }\n",
       "</style>\n",
       "<table border=\"1\" class=\"dataframe\">\n",
       "  <thead>\n",
       "    <tr style=\"text-align: right;\">\n",
       "      <th></th>\n",
       "      <th>Total_Stops</th>\n",
       "      <th>Airline_Air India</th>\n",
       "      <th>Airline_GoAir</th>\n",
       "      <th>Airline_IndiGo</th>\n",
       "      <th>Airline_Jet Airways</th>\n",
       "      <th>Airline_Jet Airways Business</th>\n",
       "      <th>Airline_Multiple carriers</th>\n",
       "      <th>Airline_Multiple carriers Premium economy</th>\n",
       "      <th>Airline_SpiceJet</th>\n",
       "      <th>Airline_Trujet</th>\n",
       "      <th>...</th>\n",
       "      <th>Destination_Kolkata</th>\n",
       "      <th>Destination_New Delhi</th>\n",
       "      <th>Journeyday</th>\n",
       "      <th>Journeymonth</th>\n",
       "      <th>Dephour</th>\n",
       "      <th>Depmin</th>\n",
       "      <th>Arrivalhour</th>\n",
       "      <th>Arrivalmin</th>\n",
       "      <th>Durationhours</th>\n",
       "      <th>Durationmins</th>\n",
       "    </tr>\n",
       "  </thead>\n",
       "  <tbody>\n",
       "    <tr>\n",
       "      <th>0</th>\n",
       "      <td>0.0</td>\n",
       "      <td>0</td>\n",
       "      <td>0</td>\n",
       "      <td>1</td>\n",
       "      <td>0</td>\n",
       "      <td>0</td>\n",
       "      <td>0</td>\n",
       "      <td>0</td>\n",
       "      <td>0</td>\n",
       "      <td>0</td>\n",
       "      <td>...</td>\n",
       "      <td>0</td>\n",
       "      <td>1</td>\n",
       "      <td>24</td>\n",
       "      <td>3</td>\n",
       "      <td>22</td>\n",
       "      <td>20</td>\n",
       "      <td>1</td>\n",
       "      <td>10</td>\n",
       "      <td>2</td>\n",
       "      <td>50</td>\n",
       "    </tr>\n",
       "    <tr>\n",
       "      <th>1</th>\n",
       "      <td>2.0</td>\n",
       "      <td>1</td>\n",
       "      <td>0</td>\n",
       "      <td>0</td>\n",
       "      <td>0</td>\n",
       "      <td>0</td>\n",
       "      <td>0</td>\n",
       "      <td>0</td>\n",
       "      <td>0</td>\n",
       "      <td>0</td>\n",
       "      <td>...</td>\n",
       "      <td>0</td>\n",
       "      <td>0</td>\n",
       "      <td>1</td>\n",
       "      <td>5</td>\n",
       "      <td>5</td>\n",
       "      <td>50</td>\n",
       "      <td>13</td>\n",
       "      <td>15</td>\n",
       "      <td>7</td>\n",
       "      <td>25</td>\n",
       "    </tr>\n",
       "  </tbody>\n",
       "</table>\n",
       "<p>2 rows × 29 columns</p>\n",
       "</div>"
      ],
      "text/plain": [
       "   Total_Stops  Airline_Air India  Airline_GoAir  Airline_IndiGo  \\\n",
       "0          0.0                  0              0               1   \n",
       "1          2.0                  1              0               0   \n",
       "\n",
       "   Airline_Jet Airways  Airline_Jet Airways Business  \\\n",
       "0                    0                             0   \n",
       "1                    0                             0   \n",
       "\n",
       "   Airline_Multiple carriers  Airline_Multiple carriers Premium economy  \\\n",
       "0                          0                                          0   \n",
       "1                          0                                          0   \n",
       "\n",
       "   Airline_SpiceJet  Airline_Trujet  ...  Destination_Kolkata  \\\n",
       "0                 0               0  ...                    0   \n",
       "1                 0               0  ...                    0   \n",
       "\n",
       "   Destination_New Delhi  Journeyday  Journeymonth  Dephour  Depmin  \\\n",
       "0                      1          24             3       22      20   \n",
       "1                      0           1             5        5      50   \n",
       "\n",
       "   Arrivalhour  Arrivalmin  Durationhours  Durationmins  \n",
       "0            1          10              2            50  \n",
       "1           13          15              7            25  \n",
       "\n",
       "[2 rows x 29 columns]"
      ]
     },
     "execution_count": 16,
     "metadata": {},
     "output_type": "execute_result"
    }
   ],
   "source": [
    "x=train[[ 'Total_Stops', 'Airline_Air India',\n",
    "       'Airline_GoAir', 'Airline_IndiGo', 'Airline_Jet Airways',\n",
    "       'Airline_Jet Airways Business', 'Airline_Multiple carriers',\n",
    "       'Airline_Multiple carriers Premium economy', 'Airline_SpiceJet',\n",
    "       'Airline_Trujet', 'Airline_Vistara', 'Airline_Vistara Premium economy',\n",
    "       'Source_Chennai', 'Source_Delhi', 'Source_Kolkata', 'Source_Mumbai',\n",
    "       'Destination_Cochin', 'Destination_Delhi', 'Destination_Hyderabad',\n",
    "       'Destination_Kolkata', 'Destination_New Delhi', 'Journeyday',\n",
    "       'Journeymonth', 'Dephour', 'Depmin', 'Arrivalhour', 'Arrivalmin',\n",
    "       'Durationhours', 'Durationmins']]\n",
    "print(x.shape)\n",
    "x.head(2)\n"
   ]
  },
  {
   "cell_type": "code",
   "execution_count": 19,
   "metadata": {},
   "outputs": [
    {
     "name": "stdout",
     "output_type": "stream",
     "text": [
      "(10683,)\n"
     ]
    },
    {
     "data": {
      "text/plain": [
       "0    3897\n",
       "1    7662\n",
       "Name: Price, dtype: int64"
      ]
     },
     "execution_count": 19,
     "metadata": {},
     "output_type": "execute_result"
    }
   ],
   "source": [
    "y=train[\"Price\"]\n",
    "print(y.shape)\n",
    "y.head(2)"
   ]
  },
  {
   "cell_type": "code",
   "execution_count": 20,
   "metadata": {},
   "outputs": [],
   "source": [
    "from sklearn.model_selection import train_test_split\n",
    "xtrain,xtest,ytrain,ytest=train_test_split(x,y,test_size=.2)"
   ]
  },
  {
   "cell_type": "code",
   "execution_count": 21,
   "metadata": {},
   "outputs": [
    {
     "name": "stdout",
     "output_type": "stream",
     "text": [
      "(8546, 29)\n",
      "(2137, 29)\n",
      "(8546,)\n",
      "(2137,)\n"
     ]
    }
   ],
   "source": [
    "print(xtrain.shape)\n",
    "print(xtest.shape)\n",
    "print(ytrain.shape) \n",
    "print(ytest.shape)"
   ]
  },
  {
   "cell_type": "code",
   "execution_count": 22,
   "metadata": {},
   "outputs": [
    {
     "data": {
      "text/plain": [
       "ExtraTreesRegressor(bootstrap=False, ccp_alpha=0.0, criterion='mse',\n",
       "                    max_depth=None, max_features='auto', max_leaf_nodes=None,\n",
       "                    max_samples=None, min_impurity_decrease=0.0,\n",
       "                    min_impurity_split=None, min_samples_leaf=1,\n",
       "                    min_samples_split=2, min_weight_fraction_leaf=0.0,\n",
       "                    n_estimators=100, n_jobs=None, oob_score=False,\n",
       "                    random_state=None, verbose=0, warm_start=False)"
      ]
     },
     "execution_count": 22,
     "metadata": {},
     "output_type": "execute_result"
    }
   ],
   "source": [
    "from sklearn.ensemble import ExtraTreesRegressor # creating model and fitting data sets to egt best features among them \n",
    "model=ExtraTreesRegressor()\n",
    "model.fit(x,y)"
   ]
  },
  {
   "cell_type": "code",
   "execution_count": 23,
   "metadata": {},
   "outputs": [
    {
     "data": {
      "text/plain": [
       "array([2.52634803e-01, 9.12446890e-03, 2.03029799e-03, 1.87118161e-02,\n",
       "       1.36481279e-01, 6.70564693e-02, 1.85607983e-02, 8.53245532e-04,\n",
       "       3.35080669e-03, 1.16607568e-04, 5.16457279e-03, 8.62685848e-05,\n",
       "       5.95659238e-04, 1.06079978e-02, 3.20065518e-03, 5.94183288e-03,\n",
       "       8.55528600e-03, 1.18886961e-02, 6.31830223e-03, 5.34093032e-04,\n",
       "       2.47740917e-02, 1.43210359e-01, 5.39856837e-02, 2.45383362e-02,\n",
       "       2.13936253e-02, 2.79737620e-02, 1.86409571e-02, 1.05737188e-01,\n",
       "       1.79320410e-02])"
      ]
     },
     "execution_count": 23,
     "metadata": {},
     "output_type": "execute_result"
    }
   ],
   "source": [
    "model.feature_importances_ #important feature"
   ]
  },
  {
   "cell_type": "code",
   "execution_count": 48,
   "metadata": {},
   "outputs": [
    {
     "data": {
      "image/png": "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\n",
      "text/plain": [
       "<Figure size 864x576 with 1 Axes>"
      ]
     },
     "metadata": {
      "needs_background": "light"
     },
     "output_type": "display_data"
    }
   ],
   "source": [
    "plt.figure(figsize = (12,8))\n",
    "feat_importances = pd.Series(model.feature_importances_, index=x.columns)\n",
    "feat_importances.nlargest(20).plot(kind=\"bar\")\n",
    "plt.show()"
   ]
  },
  {
   "cell_type": "code",
   "execution_count": 24,
   "metadata": {},
   "outputs": [],
   "source": [
    "from sklearn.ensemble import RandomForestRegressor #random forest regressor\n",
    "regressor=RandomForestRegressor()"
   ]
  },
  {
   "cell_type": "code",
   "execution_count": 28,
   "metadata": {},
   "outputs": [
    {
     "name": "stdout",
     "output_type": "stream",
     "text": [
      "[100, 200, 300, 400, 500, 600, 700, 800, 900, 1000, 1100, 1200]\n",
      "['auto', 'sqrt']\n",
      "[5, 10, 15, 20, 25, 30]\n",
      "[2, 5, 10, 15, 100]\n",
      "[1, 2, 5, 10]\n"
     ]
    }
   ],
   "source": [
    "n_estimators = [int(x) for x in np.linspace(start = 100, stop = 1200, num = 12)]\n",
    "print(n_estimators)\n",
    "max_features = [\"auto\", \"sqrt\"]\n",
    "print(max_features)\n",
    "max_depth = [int(x) for x in np.linspace(5, 30, num = 6)]\n",
    "print(max_depth)\n",
    "min_samples_split = [2, 5, 10, 15, 100]\n",
    "print(min_samples_split)\n",
    "min_samples_leaf = [1, 2, 5, 10]\n",
    "print(min_samples_leaf)"
   ]
  },
  {
   "cell_type": "code",
   "execution_count": 29,
   "metadata": {},
   "outputs": [
    {
     "name": "stdout",
     "output_type": "stream",
     "text": [
      "{'n_estimators': [100, 200, 300, 400, 500, 600, 700, 800, 900, 1000, 1100, 1200], 'max_features': ['auto', 'sqrt'], 'max_depth': [5, 10, 15, 20, 25, 30], 'min_samples_split': [2, 5, 10, 15, 100], 'min_samples_leaf': [1, 2, 5, 10]}\n"
     ]
    }
   ],
   "source": [
    "random_grid = {\"n_estimators\": n_estimators,\n",
    "               \"max_features\": max_features,\n",
    "               \"max_depth\": max_depth,\n",
    "               \"min_samples_split\": min_samples_split,\n",
    "               \"min_samples_leaf\": min_samples_leaf}\n",
    "\n",
    "print(random_grid)"
   ]
  },
  {
   "cell_type": "code",
   "execution_count": 30,
   "metadata": {},
   "outputs": [],
   "source": [
    "\n",
    "rf=RandomForestRegressor()\n",
    "from sklearn.model_selection import RandomizedSearchCV # creating model that perfrom hyperparameter tunning (random search cv)\n",
    "cv=RandomizedSearchCV(estimator = rf, param_distributions = random_grid,scoring=\"neg_mean_squared_error\", n_iter = 10, cv = 5, verbose=2, random_state=42, n_jobs = 1)"
   ]
  },
  {
   "cell_type": "code",
   "execution_count": 31,
   "metadata": {},
   "outputs": [
    {
     "name": "stdout",
     "output_type": "stream",
     "text": [
      "Fitting 5 folds for each of 10 candidates, totalling 50 fits\n",
      "[CV] n_estimators=900, min_samples_split=5, min_samples_leaf=5, max_features=sqrt, max_depth=10 \n"
     ]
    },
    {
     "name": "stderr",
     "output_type": "stream",
     "text": [
      "[Parallel(n_jobs=1)]: Using backend SequentialBackend with 1 concurrent workers.\n"
     ]
    },
    {
     "name": "stdout",
     "output_type": "stream",
     "text": [
      "[CV]  n_estimators=900, min_samples_split=5, min_samples_leaf=5, max_features=sqrt, max_depth=10, total=   2.9s\n",
      "[CV] n_estimators=900, min_samples_split=5, min_samples_leaf=5, max_features=sqrt, max_depth=10 \n"
     ]
    },
    {
     "name": "stderr",
     "output_type": "stream",
     "text": [
      "[Parallel(n_jobs=1)]: Done   1 out of   1 | elapsed:    2.8s remaining:    0.0s\n"
     ]
    },
    {
     "name": "stdout",
     "output_type": "stream",
     "text": [
      "[CV]  n_estimators=900, min_samples_split=5, min_samples_leaf=5, max_features=sqrt, max_depth=10, total=   2.9s\n",
      "[CV] n_estimators=900, min_samples_split=5, min_samples_leaf=5, max_features=sqrt, max_depth=10 \n",
      "[CV]  n_estimators=900, min_samples_split=5, min_samples_leaf=5, max_features=sqrt, max_depth=10, total=   3.1s\n",
      "[CV] n_estimators=900, min_samples_split=5, min_samples_leaf=5, max_features=sqrt, max_depth=10 \n",
      "[CV]  n_estimators=900, min_samples_split=5, min_samples_leaf=5, max_features=sqrt, max_depth=10, total=   3.1s\n",
      "[CV] n_estimators=900, min_samples_split=5, min_samples_leaf=5, max_features=sqrt, max_depth=10 \n",
      "[CV]  n_estimators=900, min_samples_split=5, min_samples_leaf=5, max_features=sqrt, max_depth=10, total=   2.9s\n",
      "[CV] n_estimators=1100, min_samples_split=10, min_samples_leaf=2, max_features=sqrt, max_depth=15 \n",
      "[CV]  n_estimators=1100, min_samples_split=10, min_samples_leaf=2, max_features=sqrt, max_depth=15, total=   4.6s\n",
      "[CV] n_estimators=1100, min_samples_split=10, min_samples_leaf=2, max_features=sqrt, max_depth=15 \n",
      "[CV]  n_estimators=1100, min_samples_split=10, min_samples_leaf=2, max_features=sqrt, max_depth=15, total=   4.7s\n",
      "[CV] n_estimators=1100, min_samples_split=10, min_samples_leaf=2, max_features=sqrt, max_depth=15 \n",
      "[CV]  n_estimators=1100, min_samples_split=10, min_samples_leaf=2, max_features=sqrt, max_depth=15, total=   4.5s\n",
      "[CV] n_estimators=1100, min_samples_split=10, min_samples_leaf=2, max_features=sqrt, max_depth=15 \n",
      "[CV]  n_estimators=1100, min_samples_split=10, min_samples_leaf=2, max_features=sqrt, max_depth=15, total=   4.6s\n",
      "[CV] n_estimators=1100, min_samples_split=10, min_samples_leaf=2, max_features=sqrt, max_depth=15 \n",
      "[CV]  n_estimators=1100, min_samples_split=10, min_samples_leaf=2, max_features=sqrt, max_depth=15, total=   4.6s\n",
      "[CV] n_estimators=300, min_samples_split=100, min_samples_leaf=5, max_features=auto, max_depth=15 \n",
      "[CV]  n_estimators=300, min_samples_split=100, min_samples_leaf=5, max_features=auto, max_depth=15, total=   2.7s\n",
      "[CV] n_estimators=300, min_samples_split=100, min_samples_leaf=5, max_features=auto, max_depth=15 \n",
      "[CV]  n_estimators=300, min_samples_split=100, min_samples_leaf=5, max_features=auto, max_depth=15, total=   2.7s\n",
      "[CV] n_estimators=300, min_samples_split=100, min_samples_leaf=5, max_features=auto, max_depth=15 \n",
      "[CV]  n_estimators=300, min_samples_split=100, min_samples_leaf=5, max_features=auto, max_depth=15, total=   2.8s\n",
      "[CV] n_estimators=300, min_samples_split=100, min_samples_leaf=5, max_features=auto, max_depth=15 \n",
      "[CV]  n_estimators=300, min_samples_split=100, min_samples_leaf=5, max_features=auto, max_depth=15, total=   2.9s\n",
      "[CV] n_estimators=300, min_samples_split=100, min_samples_leaf=5, max_features=auto, max_depth=15 \n",
      "[CV]  n_estimators=300, min_samples_split=100, min_samples_leaf=5, max_features=auto, max_depth=15, total=   2.8s\n",
      "[CV] n_estimators=400, min_samples_split=5, min_samples_leaf=5, max_features=auto, max_depth=15 \n",
      "[CV]  n_estimators=400, min_samples_split=5, min_samples_leaf=5, max_features=auto, max_depth=15, total=   5.1s\n",
      "[CV] n_estimators=400, min_samples_split=5, min_samples_leaf=5, max_features=auto, max_depth=15 \n",
      "[CV]  n_estimators=400, min_samples_split=5, min_samples_leaf=5, max_features=auto, max_depth=15, total=   5.0s\n",
      "[CV] n_estimators=400, min_samples_split=5, min_samples_leaf=5, max_features=auto, max_depth=15 \n",
      "[CV]  n_estimators=400, min_samples_split=5, min_samples_leaf=5, max_features=auto, max_depth=15, total=   5.0s\n",
      "[CV] n_estimators=400, min_samples_split=5, min_samples_leaf=5, max_features=auto, max_depth=15 \n",
      "[CV]  n_estimators=400, min_samples_split=5, min_samples_leaf=5, max_features=auto, max_depth=15, total=   5.0s\n",
      "[CV] n_estimators=400, min_samples_split=5, min_samples_leaf=5, max_features=auto, max_depth=15 \n",
      "[CV]  n_estimators=400, min_samples_split=5, min_samples_leaf=5, max_features=auto, max_depth=15, total=   5.0s\n",
      "[CV] n_estimators=700, min_samples_split=5, min_samples_leaf=10, max_features=auto, max_depth=20 \n",
      "[CV]  n_estimators=700, min_samples_split=5, min_samples_leaf=10, max_features=auto, max_depth=20, total=   7.7s\n",
      "[CV] n_estimators=700, min_samples_split=5, min_samples_leaf=10, max_features=auto, max_depth=20 \n",
      "[CV]  n_estimators=700, min_samples_split=5, min_samples_leaf=10, max_features=auto, max_depth=20, total=   7.8s\n",
      "[CV] n_estimators=700, min_samples_split=5, min_samples_leaf=10, max_features=auto, max_depth=20 \n",
      "[CV]  n_estimators=700, min_samples_split=5, min_samples_leaf=10, max_features=auto, max_depth=20, total=   7.9s\n",
      "[CV] n_estimators=700, min_samples_split=5, min_samples_leaf=10, max_features=auto, max_depth=20 \n",
      "[CV]  n_estimators=700, min_samples_split=5, min_samples_leaf=10, max_features=auto, max_depth=20, total=   7.7s\n",
      "[CV] n_estimators=700, min_samples_split=5, min_samples_leaf=10, max_features=auto, max_depth=20 \n",
      "[CV]  n_estimators=700, min_samples_split=5, min_samples_leaf=10, max_features=auto, max_depth=20, total=   7.7s\n",
      "[CV] n_estimators=1000, min_samples_split=2, min_samples_leaf=1, max_features=sqrt, max_depth=25 \n",
      "[CV]  n_estimators=1000, min_samples_split=2, min_samples_leaf=1, max_features=sqrt, max_depth=25, total=   7.3s\n",
      "[CV] n_estimators=1000, min_samples_split=2, min_samples_leaf=1, max_features=sqrt, max_depth=25 \n",
      "[CV]  n_estimators=1000, min_samples_split=2, min_samples_leaf=1, max_features=sqrt, max_depth=25, total=   7.0s\n",
      "[CV] n_estimators=1000, min_samples_split=2, min_samples_leaf=1, max_features=sqrt, max_depth=25 \n",
      "[CV]  n_estimators=1000, min_samples_split=2, min_samples_leaf=1, max_features=sqrt, max_depth=25, total=   6.9s\n",
      "[CV] n_estimators=1000, min_samples_split=2, min_samples_leaf=1, max_features=sqrt, max_depth=25 \n",
      "[CV]  n_estimators=1000, min_samples_split=2, min_samples_leaf=1, max_features=sqrt, max_depth=25, total=   7.0s\n",
      "[CV] n_estimators=1000, min_samples_split=2, min_samples_leaf=1, max_features=sqrt, max_depth=25 \n",
      "[CV]  n_estimators=1000, min_samples_split=2, min_samples_leaf=1, max_features=sqrt, max_depth=25, total=   7.1s\n",
      "[CV] n_estimators=1100, min_samples_split=15, min_samples_leaf=10, max_features=sqrt, max_depth=5 \n",
      "[CV]  n_estimators=1100, min_samples_split=15, min_samples_leaf=10, max_features=sqrt, max_depth=5, total=   2.3s\n",
      "[CV] n_estimators=1100, min_samples_split=15, min_samples_leaf=10, max_features=sqrt, max_depth=5 \n",
      "[CV]  n_estimators=1100, min_samples_split=15, min_samples_leaf=10, max_features=sqrt, max_depth=5, total=   2.4s\n",
      "[CV] n_estimators=1100, min_samples_split=15, min_samples_leaf=10, max_features=sqrt, max_depth=5 \n",
      "[CV]  n_estimators=1100, min_samples_split=15, min_samples_leaf=10, max_features=sqrt, max_depth=5, total=   2.3s\n",
      "[CV] n_estimators=1100, min_samples_split=15, min_samples_leaf=10, max_features=sqrt, max_depth=5 \n",
      "[CV]  n_estimators=1100, min_samples_split=15, min_samples_leaf=10, max_features=sqrt, max_depth=5, total=   2.3s\n",
      "[CV] n_estimators=1100, min_samples_split=15, min_samples_leaf=10, max_features=sqrt, max_depth=5 \n",
      "[CV]  n_estimators=1100, min_samples_split=15, min_samples_leaf=10, max_features=sqrt, max_depth=5, total=   2.3s\n",
      "[CV] n_estimators=300, min_samples_split=15, min_samples_leaf=1, max_features=sqrt, max_depth=15 \n",
      "[CV]  n_estimators=300, min_samples_split=15, min_samples_leaf=1, max_features=sqrt, max_depth=15, total=   1.2s\n",
      "[CV] n_estimators=300, min_samples_split=15, min_samples_leaf=1, max_features=sqrt, max_depth=15 \n",
      "[CV]  n_estimators=300, min_samples_split=15, min_samples_leaf=1, max_features=sqrt, max_depth=15, total=   1.2s\n",
      "[CV] n_estimators=300, min_samples_split=15, min_samples_leaf=1, max_features=sqrt, max_depth=15 \n",
      "[CV]  n_estimators=300, min_samples_split=15, min_samples_leaf=1, max_features=sqrt, max_depth=15, total=   1.2s\n",
      "[CV] n_estimators=300, min_samples_split=15, min_samples_leaf=1, max_features=sqrt, max_depth=15 \n",
      "[CV]  n_estimators=300, min_samples_split=15, min_samples_leaf=1, max_features=sqrt, max_depth=15, total=   1.2s\n",
      "[CV] n_estimators=300, min_samples_split=15, min_samples_leaf=1, max_features=sqrt, max_depth=15 \n",
      "[CV]  n_estimators=300, min_samples_split=15, min_samples_leaf=1, max_features=sqrt, max_depth=15, total=   1.2s\n",
      "[CV] n_estimators=700, min_samples_split=10, min_samples_leaf=2, max_features=sqrt, max_depth=5 \n"
     ]
    },
    {
     "name": "stdout",
     "output_type": "stream",
     "text": [
      "[CV]  n_estimators=700, min_samples_split=10, min_samples_leaf=2, max_features=sqrt, max_depth=5, total=   1.6s\n",
      "[CV] n_estimators=700, min_samples_split=10, min_samples_leaf=2, max_features=sqrt, max_depth=5 \n",
      "[CV]  n_estimators=700, min_samples_split=10, min_samples_leaf=2, max_features=sqrt, max_depth=5, total=   1.6s\n",
      "[CV] n_estimators=700, min_samples_split=10, min_samples_leaf=2, max_features=sqrt, max_depth=5 \n",
      "[CV]  n_estimators=700, min_samples_split=10, min_samples_leaf=2, max_features=sqrt, max_depth=5, total=   1.6s\n",
      "[CV] n_estimators=700, min_samples_split=10, min_samples_leaf=2, max_features=sqrt, max_depth=5 \n",
      "[CV]  n_estimators=700, min_samples_split=10, min_samples_leaf=2, max_features=sqrt, max_depth=5, total=   1.6s\n",
      "[CV] n_estimators=700, min_samples_split=10, min_samples_leaf=2, max_features=sqrt, max_depth=5 \n",
      "[CV]  n_estimators=700, min_samples_split=10, min_samples_leaf=2, max_features=sqrt, max_depth=5, total=   1.5s\n",
      "[CV] n_estimators=700, min_samples_split=15, min_samples_leaf=1, max_features=auto, max_depth=20 \n",
      "[CV]  n_estimators=700, min_samples_split=15, min_samples_leaf=1, max_features=auto, max_depth=20, total=   8.9s\n",
      "[CV] n_estimators=700, min_samples_split=15, min_samples_leaf=1, max_features=auto, max_depth=20 \n",
      "[CV]  n_estimators=700, min_samples_split=15, min_samples_leaf=1, max_features=auto, max_depth=20, total=   9.1s\n",
      "[CV] n_estimators=700, min_samples_split=15, min_samples_leaf=1, max_features=auto, max_depth=20 \n",
      "[CV]  n_estimators=700, min_samples_split=15, min_samples_leaf=1, max_features=auto, max_depth=20, total=   9.2s\n",
      "[CV] n_estimators=700, min_samples_split=15, min_samples_leaf=1, max_features=auto, max_depth=20 \n",
      "[CV]  n_estimators=700, min_samples_split=15, min_samples_leaf=1, max_features=auto, max_depth=20, total=   9.3s\n",
      "[CV] n_estimators=700, min_samples_split=15, min_samples_leaf=1, max_features=auto, max_depth=20 \n",
      "[CV]  n_estimators=700, min_samples_split=15, min_samples_leaf=1, max_features=auto, max_depth=20, total=   9.5s\n"
     ]
    },
    {
     "name": "stderr",
     "output_type": "stream",
     "text": [
      "[Parallel(n_jobs=1)]: Done  50 out of  50 | elapsed:  3.7min finished\n"
     ]
    },
    {
     "data": {
      "text/plain": [
       "RandomizedSearchCV(cv=5, error_score=nan,\n",
       "                   estimator=RandomForestRegressor(bootstrap=True,\n",
       "                                                   ccp_alpha=0.0,\n",
       "                                                   criterion='mse',\n",
       "                                                   max_depth=None,\n",
       "                                                   max_features='auto',\n",
       "                                                   max_leaf_nodes=None,\n",
       "                                                   max_samples=None,\n",
       "                                                   min_impurity_decrease=0.0,\n",
       "                                                   min_impurity_split=None,\n",
       "                                                   min_samples_leaf=1,\n",
       "                                                   min_samples_split=2,\n",
       "                                                   min_weight_fraction_leaf=0.0,\n",
       "                                                   n_estimators=100,\n",
       "                                                   n_jobs=None, oob_score=Fals...\n",
       "                   iid='deprecated', n_iter=10, n_jobs=1,\n",
       "                   param_distributions={'max_depth': [5, 10, 15, 20, 25, 30],\n",
       "                                        'max_features': ['auto', 'sqrt'],\n",
       "                                        'min_samples_leaf': [1, 2, 5, 10],\n",
       "                                        'min_samples_split': [2, 5, 10, 15,\n",
       "                                                              100],\n",
       "                                        'n_estimators': [100, 200, 300, 400,\n",
       "                                                         500, 600, 700, 800,\n",
       "                                                         900, 1000, 1100,\n",
       "                                                         1200]},\n",
       "                   pre_dispatch='2*n_jobs', random_state=42, refit=True,\n",
       "                   return_train_score=False, scoring='neg_mean_squared_error',\n",
       "                   verbose=2)"
      ]
     },
     "execution_count": 31,
     "metadata": {},
     "output_type": "execute_result"
    }
   ],
   "source": [
    "cv.fit(xtrain,ytrain) #fitting rondom search cv in xtrain and y train"
   ]
  },
  {
   "cell_type": "code",
   "execution_count": 32,
   "metadata": {},
   "outputs": [
    {
     "data": {
      "text/plain": [
       "{'n_estimators': 700,\n",
       " 'min_samples_split': 15,\n",
       " 'min_samples_leaf': 1,\n",
       " 'max_features': 'auto',\n",
       " 'max_depth': 20}"
      ]
     },
     "execution_count": 32,
     "metadata": {},
     "output_type": "execute_result"
    }
   ],
   "source": [
    "cv.best_params_ #best estimators are as follows"
   ]
  },
  {
   "cell_type": "code",
   "execution_count": 33,
   "metadata": {},
   "outputs": [
    {
     "data": {
      "text/plain": [
       "-3744229.3874119176"
      ]
     },
     "execution_count": 33,
     "metadata": {},
     "output_type": "execute_result"
    }
   ],
   "source": [
    "cv.best_score_"
   ]
  },
  {
   "cell_type": "code",
   "execution_count": 34,
   "metadata": {},
   "outputs": [
    {
     "name": "stdout",
     "output_type": "stream",
     "text": [
      "[ 5654.68264726 10965.28590194 10715.76320133 ... 12639.68730603\n",
      " 11620.67752108  8749.0369276 ]\n"
     ]
    }
   ],
   "source": [
    "predictions=cv.predict(xtest) #predicting Xtest\n",
    "print(predictions)"
   ]
  },
  {
   "cell_type": "code",
   "execution_count": 36,
   "metadata": {},
   "outputs": [
    {
     "data": {
      "text/plain": [
       "<matplotlib.axes._subplots.AxesSubplot at 0x1fb07f43c18>"
      ]
     },
     "execution_count": 36,
     "metadata": {},
     "output_type": "execute_result"
    },
    {
     "data": {
      "image/png": "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\n",
      "text/plain": [
       "<Figure size 432x288 with 1 Axes>"
      ]
     },
     "metadata": {
      "needs_background": "light"
     },
     "output_type": "display_data"
    }
   ],
   "source": [
    "sns.distplot(ytest-predictions) #plotting sns ytest-ypred"
   ]
  },
  {
   "cell_type": "code",
   "execution_count": 39,
   "metadata": {},
   "outputs": [
    {
     "data": {
      "text/plain": [
       "<matplotlib.collections.PathCollection at 0x1fb08727fd0>"
      ]
     },
     "execution_count": 39,
     "metadata": {},
     "output_type": "execute_result"
    },
    {
     "data": {
      "image/png": "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\n",
      "text/plain": [
       "<Figure size 432x288 with 1 Axes>"
      ]
     },
     "metadata": {
      "needs_background": "light"
     },
     "output_type": "display_data"
    }
   ],
   "source": [
    "plt.scatter(ytest,predictions) #scatter plot for ytest and predcited value"
   ]
  },
  {
   "cell_type": "code",
   "execution_count": 40,
   "metadata": {},
   "outputs": [],
   "source": [
    "#creating ,fitting applying random forest model\n",
    "regressor=RandomForestRegressor(n_estimators=700,min_samples_split=15,min_samples_leaf=1,max_features=\"auto\",max_depth=20)\n",
    "regressor.fit(xtrain,ytrain)\n",
    "ypred = regressor.predict(xtest)\n",
    "#score=accuracy_score(ypred,ytest)\n",
    "from sklearn.metrics import r2_score # r2 for accuracy sore in regression problem\n",
    "finalscore=r2_score(ytest, ypred)"
   ]
  },
  {
   "cell_type": "code",
   "execution_count": 41,
   "metadata": {},
   "outputs": [],
   "source": [
    "# confusiom matrix for regression problem\n",
    "#confusion_matrix(ytest,ypred)\n",
    "cutoff = 0.7                              # decide on a cutoff limit\n",
    "ypred_classes = np.zeros_like(ypred)    # initialise a matrix full with zeros\n",
    "ypred_classes[ypred > cutoff] = 1"
   ]
  },
  {
   "cell_type": "code",
   "execution_count": 45,
   "metadata": {},
   "outputs": [
    {
     "data": {
      "text/plain": [
       "array([[2137]], dtype=int64)"
      ]
     },
     "execution_count": 45,
     "metadata": {},
     "output_type": "execute_result"
    }
   ],
   "source": [
    "from sklearn.metrics import confusion_matrix\n",
    "ytest_classes = np.zeros_like(ypred)\n",
    "ytest_classes[ytest > cutoff] = 1\n",
    "confusion_matrix(ytest_classes, ypred_classes)"
   ]
  },
  {
   "cell_type": "code",
   "execution_count": 43,
   "metadata": {},
   "outputs": [
    {
     "name": "stdout",
     "output_type": "stream",
     "text": [
      "score of our mdoel is  0.790530016851713\n"
     ]
    }
   ],
   "source": [
    "print(\"score of our mdoel is \",+finalscore)"
   ]
  }
 ],
 "metadata": {
  "kernelspec": {
   "display_name": "Python 3",
   "language": "python",
   "name": "python3"
  },
  "language_info": {
   "codemirror_mode": {
    "name": "ipython",
    "version": 3
   },
   "file_extension": ".py",
   "mimetype": "text/x-python",
   "name": "python",
   "nbconvert_exporter": "python",
   "pygments_lexer": "ipython3",
   "version": "3.7.3"
  }
 },
 "nbformat": 4,
 "nbformat_minor": 4
}
.
